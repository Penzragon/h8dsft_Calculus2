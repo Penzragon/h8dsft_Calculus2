{
 "cells": [
  {
   "cell_type": "markdown",
   "metadata": {},
   "source": [
    "# Hacktiv8 Phase 0: Non Graded Challenge 7\n",
    "\n",
    "---\n",
    "\n",
    "By [Rifky Aliffa](https://github.com/Penzragon)\n",
    "\n",
    "Instruction:\n",
    "\n",
    "Carilah gradient dari sebuah fungsi berikut:\n",
    "\n",
    "$3x + 4y = 5$"
   ]
  },
  {
   "cell_type": "markdown",
   "metadata": {},
   "source": [
    "## Import Library"
   ]
  },
  {
   "cell_type": "code",
   "execution_count": 1,
   "metadata": {},
   "outputs": [],
   "source": [
    "import numpy as np\n",
    "import sympy as sy\n",
    "import matplotlib.pyplot as plt\n",
    "from sympy.tensor.array import derive_by_array"
   ]
  },
  {
   "cell_type": "markdown",
   "metadata": {},
   "source": [
    "## Answer"
   ]
  },
  {
   "cell_type": "markdown",
   "metadata": {},
   "source": [
    "Fungsi ***$3x + 4y = 5$*** dapat disederhanakan menjadi ***$3x + 4y - 5 = 0$***."
   ]
  },
  {
   "cell_type": "markdown",
   "metadata": {},
   "source": [
    "### Symbolic"
   ]
  },
  {
   "cell_type": "markdown",
   "metadata": {},
   "source": [
    "Membuat simbol ***$x$*** dan ***$y$***"
   ]
  },
  {
   "cell_type": "code",
   "execution_count": 2,
   "metadata": {},
   "outputs": [],
   "source": [
    "x, y = sy.symbols('x y')"
   ]
  },
  {
   "cell_type": "markdown",
   "metadata": {},
   "source": [
    "Membuat fungsi $3x + 4y - 5 = 0$"
   ]
  },
  {
   "cell_type": "code",
   "execution_count": 3,
   "metadata": {},
   "outputs": [],
   "source": [
    "f = 3*x + 4*y -5"
   ]
  },
  {
   "cell_type": "code",
   "execution_count": 4,
   "metadata": {},
   "outputs": [
    {
     "data": {
      "text/latex": [
       "$\\displaystyle 3 x + 4 y - 5$"
      ],
      "text/plain": [
       "3*x + 4*y - 5"
      ]
     },
     "execution_count": 4,
     "metadata": {},
     "output_type": "execute_result"
    }
   ],
   "source": [
    "f"
   ]
  },
  {
   "cell_type": "markdown",
   "metadata": {},
   "source": [
    "#### Gradient"
   ]
  },
  {
   "cell_type": "code",
   "execution_count": 5,
   "metadata": {},
   "outputs": [],
   "source": [
    "grad = derive_by_array(f, (x, y))"
   ]
  },
  {
   "cell_type": "code",
   "execution_count": 6,
   "metadata": {},
   "outputs": [
    {
     "data": {
      "text/latex": [
       "$\\displaystyle \\left[\\begin{matrix}3 & 4\\end{matrix}\\right]$"
      ],
      "text/plain": [
       "[3, 4]"
      ]
     },
     "execution_count": 6,
     "metadata": {},
     "output_type": "execute_result"
    }
   ],
   "source": [
    "grad"
   ]
  },
  {
   "cell_type": "markdown",
   "metadata": {},
   "source": [
    "### Numeric"
   ]
  },
  {
   "cell_type": "markdown",
   "metadata": {},
   "source": [
    "Membuat fungsi $3x + 4y - 5 = 0$"
   ]
  },
  {
   "cell_type": "code",
   "execution_count": 7,
   "metadata": {},
   "outputs": [],
   "source": [
    "def f(x, y):\n",
    "    return 3*x + 4*y - 5"
   ]
  },
  {
   "cell_type": "code",
   "execution_count": 8,
   "metadata": {},
   "outputs": [],
   "source": [
    "x = np.linspace(1, 10)\n",
    "y = np.linspace(1, 10)"
   ]
  },
  {
   "cell_type": "code",
   "execution_count": 9,
   "metadata": {},
   "outputs": [],
   "source": [
    "z = np.array([[f(i, j) for i in x] for j in y])"
   ]
  },
  {
   "cell_type": "code",
   "execution_count": 10,
   "metadata": {},
   "outputs": [],
   "source": [
    "dx, dy = np.gradient(z)"
   ]
  },
  {
   "cell_type": "code",
   "execution_count": 11,
   "metadata": {},
   "outputs": [
    {
     "data": {
      "text/plain": [
       "array([[0.73469388, 0.73469388, 0.73469388, ..., 0.73469388, 0.73469388,\n",
       "        0.73469388],\n",
       "       [0.73469388, 0.73469388, 0.73469388, ..., 0.73469388, 0.73469388,\n",
       "        0.73469388],\n",
       "       [0.73469388, 0.73469388, 0.73469388, ..., 0.73469388, 0.73469388,\n",
       "        0.73469388],\n",
       "       ...,\n",
       "       [0.73469388, 0.73469388, 0.73469388, ..., 0.73469388, 0.73469388,\n",
       "        0.73469388],\n",
       "       [0.73469388, 0.73469388, 0.73469388, ..., 0.73469388, 0.73469388,\n",
       "        0.73469388],\n",
       "       [0.73469388, 0.73469388, 0.73469388, ..., 0.73469388, 0.73469388,\n",
       "        0.73469388]])"
      ]
     },
     "execution_count": 11,
     "metadata": {},
     "output_type": "execute_result"
    }
   ],
   "source": [
    "dx"
   ]
  },
  {
   "cell_type": "code",
   "execution_count": 12,
   "metadata": {},
   "outputs": [
    {
     "data": {
      "text/plain": [
       "array([[0.55102041, 0.55102041, 0.55102041, ..., 0.55102041, 0.55102041,\n",
       "        0.55102041],\n",
       "       [0.55102041, 0.55102041, 0.55102041, ..., 0.55102041, 0.55102041,\n",
       "        0.55102041],\n",
       "       [0.55102041, 0.55102041, 0.55102041, ..., 0.55102041, 0.55102041,\n",
       "        0.55102041],\n",
       "       ...,\n",
       "       [0.55102041, 0.55102041, 0.55102041, ..., 0.55102041, 0.55102041,\n",
       "        0.55102041],\n",
       "       [0.55102041, 0.55102041, 0.55102041, ..., 0.55102041, 0.55102041,\n",
       "        0.55102041],\n",
       "       [0.55102041, 0.55102041, 0.55102041, ..., 0.55102041, 0.55102041,\n",
       "        0.55102041]])"
      ]
     },
     "execution_count": 12,
     "metadata": {},
     "output_type": "execute_result"
    }
   ],
   "source": [
    "dy"
   ]
  },
  {
   "cell_type": "code",
   "execution_count": 13,
   "metadata": {},
   "outputs": [
    {
     "data": {
      "text/plain": [
       "array([[ 2.        ,  2.55102041,  3.10204082, ..., 27.89795918,\n",
       "        28.44897959, 29.        ],\n",
       "       [ 2.73469388,  3.28571429,  3.83673469, ..., 28.63265306,\n",
       "        29.18367347, 29.73469388],\n",
       "       [ 3.46938776,  4.02040816,  4.57142857, ..., 29.36734694,\n",
       "        29.91836735, 30.46938776],\n",
       "       ...,\n",
       "       [36.53061224, 37.08163265, 37.63265306, ..., 62.42857143,\n",
       "        62.97959184, 63.53061224],\n",
       "       [37.26530612, 37.81632653, 38.36734694, ..., 63.16326531,\n",
       "        63.71428571, 64.26530612],\n",
       "       [38.        , 38.55102041, 39.10204082, ..., 63.89795918,\n",
       "        64.44897959, 65.        ]])"
      ]
     },
     "execution_count": 13,
     "metadata": {},
     "output_type": "execute_result"
    }
   ],
   "source": [
    "z"
   ]
  },
  {
   "cell_type": "code",
   "execution_count": 14,
   "metadata": {},
   "outputs": [
    {
     "data": {
      "text/plain": [
       "Text(0.5, 1.0, 'dy')"
      ]
     },
     "execution_count": 14,
     "metadata": {},
     "output_type": "execute_result"
    },
    {
     "data": {
      "image/png": "[encoded data removed]",
      "text/plain": [
       "<Figure size 1440x576 with 3 Axes>"
      ]
     },
     "metadata": {
      "needs_background": "light"
     },
     "output_type": "display_data"
    }
   ],
   "source": [
    "fig, ax = plt.subplots(ncols=3,figsize=(20,8))\n",
    "ax[0].imshow(z)\n",
    "ax[0].set_title('f(x,y)')\n",
    "ax[1].imshow(dx)\n",
    "ax[1].set_title('dx')\n",
    "ax[2].imshow(dy)\n",
    "ax[2].set_title('dy')"
   ]
  }
 ],
 "metadata": {
  "interpreter": {
   "hash": "112f40161e87cdf99d798de2b86adf76c0b833717b9d65fa1f256b9c887e27bf"
  },
  "kernelspec": {
   "display_name": "Python 3.9.1 64-bit",
   "language": "python",
   "name": "python3"
  },
  "language_info": {
   "codemirror_mode": {
    "name": "ipython",
    "version": 3
   },
   "file_extension": ".py",
   "mimetype": "text/x-python",
   "name": "python",
   "nbconvert_exporter": "python",
   "pygments_lexer": "ipython3",
   "version": "3.9.1"
  },
  "orig_nbformat": 4
 },
 "nbformat": 4,
 "nbformat_minor": 2
}
